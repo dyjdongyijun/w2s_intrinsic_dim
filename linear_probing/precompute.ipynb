{
 "cells": [
  {
   "cell_type": "code",
   "execution_count": null,
   "metadata": {},
   "outputs": [],
   "source": [
    "import sys, os\n",
    "import numpy as np\n",
    "import matplotlib as mpl\n",
    "import matplotlib.pyplot as plt\n",
    "import torch\n",
    "import argparse\n",
    "import wandb\n",
    "import logging\n",
    "\n",
    "root_dir = r'../..'\n",
    "SEED = 42\n",
    "TOL_FP = 1e-12\n",
    "\n",
    "plt.rc('font', size=18)#weight='bold', \n",
    "plt.rc('legend', fontsize=18)\n",
    "plt.rc('lines', linewidth=3, markersize=9)\n",
    "mpl.rcParams['axes.grid'] = True\n",
    "\n",
    "markers = ['o','^','s','p','d']\n",
    "colors = ['b','g','r','c','m','y']"
   ]
  },
  {
   "cell_type": "markdown",
   "metadata": {},
   "source": [
    "# Dataset"
   ]
  },
  {
   "cell_type": "code",
   "execution_count": 2,
   "metadata": {},
   "outputs": [
    {
     "name": "stderr",
     "output_type": "stream",
     "text": [
      "/Users/ydong/opt/anaconda3/envs/main/lib/python3.9/site-packages/tqdm/auto.py:21: TqdmWarning: IProgress not found. Please update jupyter and ipywidgets. See https://ipywidgets.readthedocs.io/en/stable/user_install.html\n",
      "  from .autonotebook import tqdm as notebook_tqdm\n"
     ]
    },
    {
     "name": "stdout",
     "output_type": "stream",
     "text": [
      "Image batch shape: torch.Size([32, 3, 224, 224])\n",
      "Age batch shape: torch.Size([32])\n"
     ]
    }
   ],
   "source": [
    "from dataloader.UTKFace import UTKFaceDataset, get_utkface_train_test_loader\n",
    "\n",
    "root_dir = r'../../dataset/UTKFace'\n",
    "dataset = UTKFaceDataset(root_dir)\n",
    "train_loader, test_loader = get_utkface_train_test_loader(dataset, batch_size=32, test_size=0.2, seed=42)\n",
    "\n",
    "# Quick check\n",
    "for batch_images, batch_ages in train_loader:\n",
    "    print(\"Image batch shape:\", batch_images.shape)  # e.g. [32, 3, 64, 64]\n",
    "    print(\"Age batch shape:\", batch_ages.shape)      # e.g. [32]\n",
    "    break"
   ]
  },
  {
   "cell_type": "markdown",
   "metadata": {},
   "source": [
    "# Models"
   ]
  },
  {
   "cell_type": "code",
   "execution_count": 3,
   "metadata": {},
   "outputs": [],
   "source": [
    "import torch\n",
    "import torch.nn as nn\n",
    "from torchvision import models\n",
    "import torchvision.transforms as T\n",
    "from transformers import CLIPModel, CLIPProcessor\n",
    "from torch.utils.data import DataLoader\n",
    "\n",
    "def get_intrinsic_dim(features, ratio=0.95, return_sval=False): \n",
    "    features = features.detach().cpu()\n",
    "    sval = torch.linalg.svdvals(features)\n",
    "    cumsum_sval = torch.cumsum(sval, dim=0)\n",
    "    intrinsic_dim = torch.where(cumsum_sval >= ratio*cumsum_sval[-1])[0][0] + 1\n",
    "    if return_sval:\n",
    "        return intrinsic_dim, sval\n",
    "    return intrinsic_dim\n",
    "\n",
    "cutoff = 0.9"
   ]
  },
  {
   "cell_type": "markdown",
   "metadata": {},
   "source": [
    "## ResNet"
   ]
  },
  {
   "cell_type": "code",
   "execution_count": 5,
   "metadata": {},
   "outputs": [
    {
     "name": "stdout",
     "output_type": "stream",
     "text": [
      "ResNet feature matrix shape = torch.Size([23708, 512])\n"
     ]
    }
   ],
   "source": [
    "# Example: your dataset or DataLoader that yields (images, age)\n",
    "# Suppose 'dataset' is your UTKFaceDataset or huggingface Dataset\n",
    "batch_size = 128\n",
    "data_loader = DataLoader(dataset, batch_size=batch_size, shuffle=False)\n",
    "\n",
    "model_tag = 'resnet18'\n",
    "weak_dict = {\n",
    "    'resnet18': models.resnet18(weights=models.ResNet18_Weights.IMAGENET1K_V1),\n",
    "    'resnet34': models.resnet34(weights=models.ResNet34_Weights.IMAGENET1K_V1),\n",
    "    'resnet50': models.resnet50(weights=models.ResNet50_Weights.IMAGENET1K_V2),\n",
    "    'resnet101': models.resnet101(weights=models.ResNet101_Weights.IMAGENET1K_V2),\n",
    "    'resnet152': models.resnet152(weights=models.ResNet152_Weights.IMAGENET1K_V2), \n",
    "}\n",
    "resnet = weak_dict[model_tag]\n",
    "\n",
    "# 2) Remove the final fully connected layer -> get a feature extractor\n",
    "#    One approach: use nn.Sequential on all layers except the last\n",
    "feature_extractor = nn.Sequential(*list(resnet.children())[:-1])  \n",
    "feature_extractor.eval()\n",
    "\n",
    "# 3) (Optional) put model on GPU if available\n",
    "device = torch.device('cuda' if torch.cuda.is_available() else 'cpu')\n",
    "feature_extractor.to(device)\n",
    "\n",
    "# 4) Disable gradient computation\n",
    "for param in feature_extractor.parameters():\n",
    "    param.requires_grad = False\n",
    "\n",
    "all_features = []\n",
    "\n",
    "# 5) Inference loop\n",
    "with torch.no_grad():\n",
    "    for images, _ in data_loader:\n",
    "        images = images.to(device)  # shape: (B, 3, H, W)\n",
    "        \n",
    "        # ResNet outputs a 4D tensor [B, 2048, 1, 1]\n",
    "        feats = feature_extractor(images)  # shape: (B, 2048, 1, 1)\n",
    "        \n",
    "        # Flatten the spatial dims\n",
    "        feats = feats.view(feats.size(0), -1)  # shape: (B, 2048)\n",
    "        \n",
    "        # Move to CPU (if on GPU) and collect\n",
    "        all_features.append(feats.cpu())\n",
    "\n",
    "# 6) Concatenate -> shape (N, 2048)\n",
    "resnet_features = torch.cat(all_features, dim=0)\n",
    "print(\"ResNet feature matrix shape =\", resnet_features.shape)\n",
    "# e.g. [23705, 2048] if the dataset has 23,705 images\n",
    "\n",
    "# os.makedirs(\"./precomputed\", exist_ok=True)\n",
    "torch.save(resnet_features, f\"./precomputed/utkface_{model_tag}.pt\")"
   ]
  },
  {
   "cell_type": "markdown",
   "metadata": {},
   "source": [
    "## CLIP ViT"
   ]
  },
  {
   "cell_type": "code",
   "execution_count": 6,
   "metadata": {},
   "outputs": [
    {
     "name": "stdout",
     "output_type": "stream",
     "text": [
      "CLIP feature matrix shape = torch.Size([23708, 768])\n"
     ]
    }
   ],
   "source": [
    "# 1) Load the CLIP model and processor\n",
    "clip_model = CLIPModel.from_pretrained(\"openai/clip-vit-base-patch32\")\n",
    "processor = CLIPProcessor.from_pretrained(\"openai/clip-vit-base-patch32\")\n",
    "\n",
    "# We'll focus on the vision encoder part\n",
    "vision_encoder = clip_model.vision_model\n",
    "\n",
    "# 2) Freeze\n",
    "vision_encoder.eval()\n",
    "for param in vision_encoder.parameters():\n",
    "    param.requires_grad = False\n",
    "\n",
    "# 3) (Optional) GPU usage\n",
    "device = torch.device('cuda' if torch.cuda.is_available() else 'cpu')\n",
    "vision_encoder.to(device)\n",
    "\n",
    "# Suppose 'dataset' yields PIL images + labels\n",
    "data_loader = DataLoader(dataset, batch_size=32, shuffle=False)\n",
    "\n",
    "all_features_clip = []\n",
    "with torch.no_grad():\n",
    "    for pil_images, _ in data_loader:\n",
    "        # 4) Use the CLIP processor or transform to get pixel_values\n",
    "        #    Usually you'd do something like:\n",
    "        inputs = processor(images=pil_images, return_tensors=\"pt\", do_rescale=False)\n",
    "        pixel_values = inputs[\"pixel_values\"].to(device)  # (B, 3, 224, 224)\n",
    "        \n",
    "        # 5) Forward through CLIP's vision encoder\n",
    "        outputs = vision_encoder(pixel_values=pixel_values)\n",
    "        \n",
    "        # 6) outputs has .last_hidden_state and .pooler_output\n",
    "        #    .pooler_output is usually the [CLS] embedding, shape (B, hidden_size)\n",
    "        feats = outputs.pooler_output  # shape (B, 768) for ViT-B/32\n",
    "        \n",
    "        all_features_clip.append(feats.cpu())\n",
    "\n",
    "clip_features = torch.cat(all_features_clip, dim=0)  # (N, 768)\n",
    "print(\"CLIP feature matrix shape =\", clip_features.shape)\n",
    "# e.g. [23705, 768]\n",
    "\n",
    "torch.save(clip_features, \"./precomputed/utkface_clipb32.pt\")"
   ]
  },
  {
   "cell_type": "markdown",
   "metadata": {},
   "source": [
    "# Labels"
   ]
  },
  {
   "cell_type": "code",
   "execution_count": 37,
   "metadata": {},
   "outputs": [],
   "source": [
    "data_loader = DataLoader(dataset, batch_size=32, shuffle=False)\n",
    "all_labels = []\n",
    "for _, labels in data_loader:\n",
    "    all_labels.append(labels)\n",
    "all_labels = torch.cat(all_labels, dim=0) # shape: [23705]\n",
    "torch.save(all_labels, \"./precomputed/utkface_labels.pt\")"
   ]
  },
  {
   "cell_type": "code",
   "execution_count": null,
   "metadata": {},
   "outputs": [],
   "source": []
  },
  {
   "cell_type": "code",
   "execution_count": null,
   "metadata": {},
   "outputs": [],
   "source": []
  }
 ],
 "metadata": {
  "kernelspec": {
   "display_name": "main",
   "language": "python",
   "name": "python3"
  },
  "language_info": {
   "codemirror_mode": {
    "name": "ipython",
    "version": 3
   },
   "file_extension": ".py",
   "mimetype": "text/x-python",
   "name": "python",
   "nbconvert_exporter": "python",
   "pygments_lexer": "ipython3",
   "version": "3.9.18"
  }
 },
 "nbformat": 4,
 "nbformat_minor": 2
}
